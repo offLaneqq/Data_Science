{
  "nbformat": 4,
  "nbformat_minor": 0,
  "metadata": {
    "colab": {
      "provenance": [],
      "authorship_tag": "ABX9TyPiNx2ojiGoZUrlUT3PPdo3",
      "include_colab_link": true
    },
    "kernelspec": {
      "name": "python3",
      "display_name": "Python 3"
    },
    "language_info": {
      "name": "python"
    }
  },
  "cells": [
    {
      "cell_type": "markdown",
      "metadata": {
        "id": "view-in-github",
        "colab_type": "text"
      },
      "source": [
        "<a href=\"https://colab.research.google.com/github/offLaneqq/Data_Science/blob/main/2_Python.ipynb\" target=\"_parent\"><img src=\"https://colab.research.google.com/assets/colab-badge.svg\" alt=\"Open In Colab\"/></a>"
      ]
    },
    {
      "cell_type": "code",
      "execution_count": null,
      "metadata": {
        "colab": {
          "base_uri": "https://localhost:8080/"
        },
        "id": "koF-HkSUNxmE",
        "outputId": "76aa127f-23f1-4b21-cf3e-dbe86b22f082"
      },
      "outputs": [
        {
          "output_type": "execute_result",
          "data": {
            "text/plain": [
              "array([[ 0,  1,  2,  3,  4],\n",
              "       [ 5,  6,  7,  8,  9],\n",
              "       [10, 11, 12, 13, 14],\n",
              "       [15, 16, 17, 18, 19]])"
            ]
          },
          "metadata": {},
          "execution_count": 39
        }
      ],
      "source": [
        "import numpy as np\n",
        "\n",
        "a = np.arange(0, 20)\n",
        "a.resize(4, 5)\n",
        "a"
      ]
    },
    {
      "cell_type": "code",
      "source": [
        "np.zeros([2,2,3]).astype(int)"
      ],
      "metadata": {
        "colab": {
          "base_uri": "https://localhost:8080/"
        },
        "id": "UKaeMq0XeACL",
        "outputId": "eac01f57-6be6-4347-d596-2846f1ce26fb"
      },
      "execution_count": null,
      "outputs": [
        {
          "output_type": "execute_result",
          "data": {
            "text/plain": [
              "array([[[0, 0, 0],\n",
              "        [0, 0, 0]],\n",
              "\n",
              "       [[0, 0, 0],\n",
              "        [0, 0, 0]]])"
            ]
          },
          "metadata": {},
          "execution_count": 13
        }
      ]
    },
    {
      "cell_type": "code",
      "source": [
        "np.ones([5, 2], int)"
      ],
      "metadata": {
        "colab": {
          "base_uri": "https://localhost:8080/"
        },
        "id": "73DpyZhmeO_d",
        "outputId": "41ccc51c-12a5-4d32-f905-b7a8a70860ca"
      },
      "execution_count": null,
      "outputs": [
        {
          "output_type": "execute_result",
          "data": {
            "text/plain": [
              "array([[1, 1],\n",
              "       [1, 1],\n",
              "       [1, 1],\n",
              "       [1, 1],\n",
              "       [1, 1]])"
            ]
          },
          "metadata": {},
          "execution_count": 32
        }
      ]
    },
    {
      "cell_type": "code",
      "source": [
        "ones = np.eye(5)\n",
        "diag = np.diag(ones)"
      ],
      "metadata": {
        "id": "GqqdoACNeXGr"
      },
      "execution_count": null,
      "outputs": []
    },
    {
      "cell_type": "code",
      "source": [
        "b = np.append([[1, 2, 3], [4, 5, 6]], [[7], [8]], axis=1)\n",
        "b"
      ],
      "metadata": {
        "colab": {
          "base_uri": "https://localhost:8080/"
        },
        "id": "L00y0ah3eW-e",
        "outputId": "1912a74d-e6bb-4219-e553-a936452101d0"
      },
      "execution_count": null,
      "outputs": [
        {
          "output_type": "execute_result",
          "data": {
            "text/plain": [
              "array([[1, 2, 3, 7],\n",
              "       [4, 5, 6, 8]])"
            ]
          },
          "metadata": {},
          "execution_count": 34
        }
      ]
    },
    {
      "cell_type": "code",
      "source": [
        "b > 4"
      ],
      "metadata": {
        "colab": {
          "base_uri": "https://localhost:8080/"
        },
        "id": "ac2xgpjghw7W",
        "outputId": "1c6c37b9-0c99-4fc7-c8c6-ee290427fa42"
      },
      "execution_count": null,
      "outputs": [
        {
          "output_type": "execute_result",
          "data": {
            "text/plain": [
              "array([[False, False, False,  True],\n",
              "       [False,  True,  True,  True]])"
            ]
          },
          "metadata": {},
          "execution_count": 35
        }
      ]
    },
    {
      "cell_type": "code",
      "source": [
        "b[b>4]"
      ],
      "metadata": {
        "colab": {
          "base_uri": "https://localhost:8080/"
        },
        "id": "fau3G9rXh7Yw",
        "outputId": "34e4ab2a-00d7-4062-d679-edf8fdb1d414"
      },
      "execution_count": null,
      "outputs": [
        {
          "output_type": "execute_result",
          "data": {
            "text/plain": [
              "array([7, 5, 6, 8])"
            ]
          },
          "metadata": {},
          "execution_count": 36
        }
      ]
    },
    {
      "cell_type": "code",
      "source": [
        "a = [1]*10 + list(range(10,15))\n",
        "print ('a=', a)\n",
        "print ('np.mean(a)=', np.mean(a))\n",
        "print ('np.std(a)=', np.std(a))\n",
        "print ('np.median(a)=', np.median(a))\n",
        "print ('np.sum(a)=', np.sum(a))\n",
        "print ('np.min(a)=', np.min(a))"
      ],
      "metadata": {
        "colab": {
          "base_uri": "https://localhost:8080/"
        },
        "id": "WtvsIKK04_U_",
        "outputId": "49bc9296-57a2-4937-b94b-1f6b3bd445de"
      },
      "execution_count": null,
      "outputs": [
        {
          "output_type": "stream",
          "name": "stdout",
          "text": [
            "a= [1, 1, 1, 1, 1, 1, 1, 1, 1, 1, 10, 11, 12, 13, 14]\n",
            "np.mean(a)= 4.666666666666667\n",
            "np.std(a)= 5.2493385826745405\n",
            "np.median(a)= 1.0\n",
            "np.sum(a)= 70\n",
            "np.min(a)= 1\n"
          ]
        }
      ]
    },
    {
      "cell_type": "markdown",
      "source": [
        "**1. Computing Pi**\n",
        "\n",
        "Knowing that pi is area of circle of `r = 1` which computed `S = πr2`, estimate the\n",
        " value with the help of distribution."
      ],
      "metadata": {
        "id": "L9DMVtFsEnYd"
      }
    },
    {
      "cell_type": "code",
      "source": [
        "import math as m\n",
        "import numpy as np\n",
        "\n",
        "r = 1\n",
        "s = m.pi * (r ** 2)\n",
        "print(s)"
      ],
      "metadata": {
        "colab": {
          "base_uri": "https://localhost:8080/"
        },
        "id": "uHV7NuPbGBVE",
        "outputId": "40522827-dcb4-4738-ee85-601f2b161c3b"
      },
      "execution_count": null,
      "outputs": [
        {
          "output_type": "stream",
          "name": "stdout",
          "text": [
            "3.141592653589793\n"
          ]
        }
      ]
    }
  ]
}